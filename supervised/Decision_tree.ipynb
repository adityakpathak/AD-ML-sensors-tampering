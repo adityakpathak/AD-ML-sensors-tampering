{
 "cells": [
  {
   "cell_type": "code",
   "execution_count": 293,
   "metadata": {},
   "outputs": [],
   "source": [
    "import pandas as pd\n",
    "import numpy as np\n",
    "import matplotlib.pyplot as plt\n",
    "\n",
    "from configparser import ConfigParser\n",
    "from sklearn import preprocessing\n",
    "from sklearn.model_selection import train_test_split, cross_val_score\n",
    "from sklearn.model_selection import train_test_split, cross_val_score\n",
    "from sklearn.metrics import accuracy_score, classification_report, precision_score, recall_score \n",
    "from sklearn.metrics import confusion_matrix, precision_recall_curve, roc_curve, auc, log_loss\n",
    "import seaborn as sns"
   ]
  },
  {
   "cell_type": "code",
   "execution_count": 294,
   "metadata": {},
   "outputs": [
    {
     "data": {
      "text/html": [
       "<div>\n",
       "<style scoped>\n",
       "    .dataframe tbody tr th:only-of-type {\n",
       "        vertical-align: middle;\n",
       "    }\n",
       "\n",
       "    .dataframe tbody tr th {\n",
       "        vertical-align: top;\n",
       "    }\n",
       "\n",
       "    .dataframe thead th {\n",
       "        text-align: right;\n",
       "    }\n",
       "</style>\n",
       "<table border=\"1\" class=\"dataframe\">\n",
       "  <thead>\n",
       "    <tr style=\"text-align: right;\">\n",
       "      <th></th>\n",
       "      <th>Protocol</th>\n",
       "      <th>Length</th>\n",
       "      <th>0</th>\n",
       "      <th>Source</th>\n",
       "      <th>Destination</th>\n",
       "      <th>source port</th>\n",
       "      <th>Destination port</th>\n",
       "      <th>Count</th>\n",
       "      <th>Manual Label</th>\n",
       "    </tr>\n",
       "  </thead>\n",
       "  <tbody>\n",
       "    <tr>\n",
       "      <th>0</th>\n",
       "      <td>TLSv1.2</td>\n",
       "      <td>97</td>\n",
       "      <td>2020-03-10</td>\n",
       "      <td>130.240.134.20</td>\n",
       "      <td>89.18.105.60</td>\n",
       "      <td>34223</td>\n",
       "      <td>8883</td>\n",
       "      <td>1440</td>\n",
       "      <td>0</td>\n",
       "    </tr>\n",
       "    <tr>\n",
       "      <th>1</th>\n",
       "      <td>TLSv1.2</td>\n",
       "      <td>97</td>\n",
       "      <td>2020-03-10</td>\n",
       "      <td>89.18.105.60</td>\n",
       "      <td>130.240.134.20</td>\n",
       "      <td>8883</td>\n",
       "      <td>34223</td>\n",
       "      <td>1440</td>\n",
       "      <td>0</td>\n",
       "    </tr>\n",
       "    <tr>\n",
       "      <th>2</th>\n",
       "      <td>TLSv1.2</td>\n",
       "      <td>162</td>\n",
       "      <td>2020-03-10</td>\n",
       "      <td>130.240.134.20</td>\n",
       "      <td>89.18.105.60</td>\n",
       "      <td>34223</td>\n",
       "      <td>8883</td>\n",
       "      <td>8</td>\n",
       "      <td>0</td>\n",
       "    </tr>\n",
       "    <tr>\n",
       "      <th>3</th>\n",
       "      <td>TLSv1.2</td>\n",
       "      <td>164</td>\n",
       "      <td>2020-03-10</td>\n",
       "      <td>130.240.134.20</td>\n",
       "      <td>89.18.105.60</td>\n",
       "      <td>34223</td>\n",
       "      <td>8883</td>\n",
       "      <td>8</td>\n",
       "      <td>0</td>\n",
       "    </tr>\n",
       "    <tr>\n",
       "      <th>4</th>\n",
       "      <td>TLSv1.2</td>\n",
       "      <td>166</td>\n",
       "      <td>2020-03-10</td>\n",
       "      <td>130.240.134.20</td>\n",
       "      <td>89.18.105.60</td>\n",
       "      <td>34223</td>\n",
       "      <td>8883</td>\n",
       "      <td>9</td>\n",
       "      <td>0</td>\n",
       "    </tr>\n",
       "    <tr>\n",
       "      <th>...</th>\n",
       "      <td>...</td>\n",
       "      <td>...</td>\n",
       "      <td>...</td>\n",
       "      <td>...</td>\n",
       "      <td>...</td>\n",
       "      <td>...</td>\n",
       "      <td>...</td>\n",
       "      <td>...</td>\n",
       "      <td>...</td>\n",
       "    </tr>\n",
       "    <tr>\n",
       "      <th>449</th>\n",
       "      <td>TLSv1.2</td>\n",
       "      <td>206</td>\n",
       "      <td>2020-05-31</td>\n",
       "      <td>130.240.134.20</td>\n",
       "      <td>89.18.105.60</td>\n",
       "      <td>36655</td>\n",
       "      <td>8883</td>\n",
       "      <td>5</td>\n",
       "      <td>1</td>\n",
       "    </tr>\n",
       "    <tr>\n",
       "      <th>450</th>\n",
       "      <td>TLSv1.2</td>\n",
       "      <td>239</td>\n",
       "      <td>2020-05-31</td>\n",
       "      <td>130.240.134.20</td>\n",
       "      <td>89.18.105.60</td>\n",
       "      <td>36655</td>\n",
       "      <td>8883</td>\n",
       "      <td>7</td>\n",
       "      <td>1</td>\n",
       "    </tr>\n",
       "    <tr>\n",
       "      <th>451</th>\n",
       "      <td>TLSv1.2</td>\n",
       "      <td>240</td>\n",
       "      <td>2020-05-31</td>\n",
       "      <td>130.240.134.20</td>\n",
       "      <td>89.18.105.60</td>\n",
       "      <td>36655</td>\n",
       "      <td>8883</td>\n",
       "      <td>41</td>\n",
       "      <td>1</td>\n",
       "    </tr>\n",
       "    <tr>\n",
       "      <th>452</th>\n",
       "      <td>TLSv1.2</td>\n",
       "      <td>971</td>\n",
       "      <td>2020-05-31</td>\n",
       "      <td>130.240.134.20</td>\n",
       "      <td>89.18.105.60</td>\n",
       "      <td>36655</td>\n",
       "      <td>8883</td>\n",
       "      <td>3</td>\n",
       "      <td>1</td>\n",
       "    </tr>\n",
       "    <tr>\n",
       "      <th>453</th>\n",
       "      <td>TLSv1.2</td>\n",
       "      <td>973</td>\n",
       "      <td>2020-05-31</td>\n",
       "      <td>130.240.134.20</td>\n",
       "      <td>89.18.105.60</td>\n",
       "      <td>36655</td>\n",
       "      <td>8883</td>\n",
       "      <td>357</td>\n",
       "      <td>1</td>\n",
       "    </tr>\n",
       "  </tbody>\n",
       "</table>\n",
       "<p>454 rows × 9 columns</p>\n",
       "</div>"
      ],
      "text/plain": [
       "    Protocol  Length           0          Source     Destination  source port  \\\n",
       "0    TLSv1.2      97  2020-03-10  130.240.134.20    89.18.105.60        34223   \n",
       "1    TLSv1.2      97  2020-03-10    89.18.105.60  130.240.134.20         8883   \n",
       "2    TLSv1.2     162  2020-03-10  130.240.134.20    89.18.105.60        34223   \n",
       "3    TLSv1.2     164  2020-03-10  130.240.134.20    89.18.105.60        34223   \n",
       "4    TLSv1.2     166  2020-03-10  130.240.134.20    89.18.105.60        34223   \n",
       "..       ...     ...         ...             ...             ...          ...   \n",
       "449  TLSv1.2     206  2020-05-31  130.240.134.20    89.18.105.60        36655   \n",
       "450  TLSv1.2     239  2020-05-31  130.240.134.20    89.18.105.60        36655   \n",
       "451  TLSv1.2     240  2020-05-31  130.240.134.20    89.18.105.60        36655   \n",
       "452  TLSv1.2     971  2020-05-31  130.240.134.20    89.18.105.60        36655   \n",
       "453  TLSv1.2     973  2020-05-31  130.240.134.20    89.18.105.60        36655   \n",
       "\n",
       "     Destination port  Count  Manual Label  \n",
       "0                8883   1440             0  \n",
       "1               34223   1440             0  \n",
       "2                8883      8             0  \n",
       "3                8883      8             0  \n",
       "4                8883      9             0  \n",
       "..                ...    ...           ...  \n",
       "449              8883      5             1  \n",
       "450              8883      7             1  \n",
       "451              8883     41             1  \n",
       "452              8883      3             1  \n",
       "453              8883    357             1  \n",
       "\n",
       "[454 rows x 9 columns]"
      ]
     },
     "metadata": {},
     "output_type": "display_data"
    }
   ],
   "source": [
    "readPanda= pd.read_csv(\"Supervised.csv\")\n",
    "display(readPanda)"
   ]
  },
  {
   "cell_type": "code",
   "execution_count": 295,
   "metadata": {},
   "outputs": [
    {
     "data": {
      "text/plain": [
       "['Protocol',\n",
       " 'Length',\n",
       " '0',\n",
       " 'Source',\n",
       " 'Destination',\n",
       " 'source port',\n",
       " 'Destination port',\n",
       " 'Count',\n",
       " 'Manual Label']"
      ]
     },
     "execution_count": 295,
     "metadata": {},
     "output_type": "execute_result"
    }
   ],
   "source": [
    "readPanda.columns.tolist()\n"
   ]
  },
  {
   "cell_type": "code",
   "execution_count": 296,
   "metadata": {},
   "outputs": [],
   "source": [
    "newdf=readPanda[['Length', 'source port',\n",
    " 'Destination port',\n",
    " 'Count',\n",
    " 'Manual Label']]"
   ]
  },
  {
   "cell_type": "code",
   "execution_count": 297,
   "metadata": {},
   "outputs": [
    {
     "data": {
      "text/plain": [
       "<AxesSubplot:>"
      ]
     },
     "execution_count": 297,
     "metadata": {},
     "output_type": "execute_result"
    },
    {
     "data": {
      "image/png": "[encoded data removed]",
      "text/plain": [
       "<Figure size 432x288 with 2 Axes>"
      ]
     },
     "metadata": {
      "needs_background": "light"
     },
     "output_type": "display_data"
    }
   ],
   "source": [
    "sns.heatmap(newdf.corr(), annot= True)\n"
   ]
  },
  {
   "cell_type": "code",
   "execution_count": 298,
   "metadata": {},
   "outputs": [
    {
     "data": {
      "image/png": "[encoded data removed]",
      "text/plain": [
       "<Figure size 432x288 with 1 Axes>"
      ]
     },
     "metadata": {
      "needs_background": "light"
     },
     "output_type": "display_data"
    }
   ],
   "source": [
    "sns.countplot(x = 'Manual Label', data =newdf, palette = 'hls')\n",
    "plt.show()"
   ]
  },
  {
   "cell_type": "code",
   "execution_count": 299,
   "metadata": {},
   "outputs": [],
   "source": [
    "X = newdf.drop('Manual Label', axis=1)\n",
    "y = newdf['Manual Label']"
   ]
  },
  {
   "cell_type": "code",
   "execution_count": 300,
   "metadata": {},
   "outputs": [
    {
     "data": {
      "text/plain": [
       "(363, 4)"
      ]
     },
     "execution_count": 300,
     "metadata": {},
     "output_type": "execute_result"
    }
   ],
   "source": [
    "\n",
    "\n",
    "X_train, X_test, y_train, y_test = train_test_split(X, y, test_size=0.2, random_state=2)\n",
    "X_train.shape"
   ]
  },
  {
   "cell_type": "code",
   "execution_count": 301,
   "metadata": {},
   "outputs": [],
   "source": [
    "X_test.to_csv('ram.csv')"
   ]
  },
  {
   "cell_type": "code",
   "execution_count": 302,
   "metadata": {},
   "outputs": [],
   "source": [
    "#X_test.to_csv('new.csv')"
   ]
  },
  {
   "cell_type": "code",
   "execution_count": 303,
   "metadata": {},
   "outputs": [],
   "source": [
    "#d1 = {'dates': n['dates'],'Length': n['Length'],'Count': n['packtLDaily_Count'], 'label': y_pred }\n",
    "#result1 = pd.DataFrame(d1)"
   ]
  },
  {
   "cell_type": "code",
   "execution_count": 304,
   "metadata": {},
   "outputs": [],
   "source": [
    "#result1[result1['label']==1]\n"
   ]
  },
  {
   "cell_type": "code",
   "execution_count": 305,
   "metadata": {},
   "outputs": [],
   "source": [
    "#"
   ]
  },
  {
   "cell_type": "code",
   "execution_count": 306,
   "metadata": {},
   "outputs": [],
   "source": [
    "#d = {'dates': n['dates'],'Length': n['Length'],'Count': n['packtLDaily_Count'], 'label': y_pred1}\n",
    "#result = pd.DataFrame(d)"
   ]
  },
  {
   "cell_type": "code",
   "execution_count": 307,
   "metadata": {},
   "outputs": [],
   "source": [
    "#result[result['label']==1]\n"
   ]
  },
  {
   "cell_type": "code",
   "execution_count": 308,
   "metadata": {},
   "outputs": [],
   "source": [
    "#result.to_csv('result.csv')"
   ]
  },
  {
   "cell_type": "code",
   "execution_count": 309,
   "metadata": {},
   "outputs": [],
   "source": [
    "from sklearn.model_selection import KFold\n",
    "from sklearn.tree import DecisionTreeClassifier\n",
    "classifier = DecisionTreeClassifier(max_depth=15)\n",
    "#classifier1 = DecisionTreeClassifier()\n",
    "#classifier1.fit(X_train, y_train)\n",
    "classifier.fit(X_train, y_train)\n",
    "model= classifier.fit(X_train, y_train)\n"
   ]
  },
  {
   "cell_type": "code",
   "execution_count": 310,
   "metadata": {},
   "outputs": [
    {
     "data": {
      "text/plain": [
       "<generator object _BaseKFold.split at 0x7f90f0308a98>"
      ]
     },
     "execution_count": 310,
     "metadata": {},
     "output_type": "execute_result"
    }
   ],
   "source": [
    "kf2 = KFold(n_splits=10,shuffle=True)\n",
    "kf2.split(X) "
   ]
  },
  {
   "cell_type": "code",
   "execution_count": 329,
   "metadata": {},
   "outputs": [
    {
     "name": "stdout",
     "output_type": "stream",
     "text": [
      "              precision    recall  f1-score   support\n",
      "\n",
      "           0       0.94      1.00      0.97        33\n",
      "           1       1.00      0.85      0.92        13\n",
      "\n",
      "    accuracy                           0.96        46\n",
      "   macro avg       0.97      0.92      0.94        46\n",
      "weighted avg       0.96      0.96      0.96        46\n",
      "\n",
      "[[33  0]\n",
      " [ 2 11]]\n",
      "              precision    recall  f1-score   support\n",
      "\n",
      "           0       0.80      1.00      0.89        28\n",
      "           1       1.00      0.61      0.76        18\n",
      "\n",
      "    accuracy                           0.85        46\n",
      "   macro avg       0.90      0.81      0.82        46\n",
      "weighted avg       0.88      0.85      0.84        46\n",
      "\n",
      "[[28  0]\n",
      " [ 7 11]]\n",
      "              precision    recall  f1-score   support\n",
      "\n",
      "           0       0.94      1.00      0.97        34\n",
      "           1       1.00      0.83      0.91        12\n",
      "\n",
      "    accuracy                           0.96        46\n",
      "   macro avg       0.97      0.92      0.94        46\n",
      "weighted avg       0.96      0.96      0.96        46\n",
      "\n",
      "[[34  0]\n",
      " [ 2 10]]\n",
      "              precision    recall  f1-score   support\n",
      "\n",
      "           0       0.92      1.00      0.96        36\n",
      "           1       1.00      0.70      0.82        10\n",
      "\n",
      "    accuracy                           0.93        46\n",
      "   macro avg       0.96      0.85      0.89        46\n",
      "weighted avg       0.94      0.93      0.93        46\n",
      "\n",
      "[[36  0]\n",
      " [ 3  7]]\n",
      "              precision    recall  f1-score   support\n",
      "\n",
      "           0       0.90      1.00      0.95        36\n",
      "           1       1.00      0.56      0.71         9\n",
      "\n",
      "    accuracy                           0.91        45\n",
      "   macro avg       0.95      0.78      0.83        45\n",
      "weighted avg       0.92      0.91      0.90        45\n",
      "\n",
      "[[36  0]\n",
      " [ 4  5]]\n",
      "              precision    recall  f1-score   support\n",
      "\n",
      "           0       0.94      0.97      0.96        33\n",
      "           1       0.91      0.83      0.87        12\n",
      "\n",
      "    accuracy                           0.93        45\n",
      "   macro avg       0.93      0.90      0.91        45\n",
      "weighted avg       0.93      0.93      0.93        45\n",
      "\n",
      "[[32  1]\n",
      " [ 2 10]]\n",
      "              precision    recall  f1-score   support\n",
      "\n",
      "           0       0.89      0.97      0.93        34\n",
      "           1       0.88      0.64      0.74        11\n",
      "\n",
      "    accuracy                           0.89        45\n",
      "   macro avg       0.88      0.80      0.83        45\n",
      "weighted avg       0.89      0.89      0.88        45\n",
      "\n",
      "[[33  1]\n",
      " [ 4  7]]\n",
      "              precision    recall  f1-score   support\n",
      "\n",
      "           0       0.93      0.93      0.93        30\n",
      "           1       0.87      0.87      0.87        15\n",
      "\n",
      "    accuracy                           0.91        45\n",
      "   macro avg       0.90      0.90      0.90        45\n",
      "weighted avg       0.91      0.91      0.91        45\n",
      "\n",
      "[[28  2]\n",
      " [ 2 13]]\n",
      "              precision    recall  f1-score   support\n",
      "\n",
      "           0       0.86      1.00      0.93        32\n",
      "           1       1.00      0.62      0.76        13\n",
      "\n",
      "    accuracy                           0.89        45\n",
      "   macro avg       0.93      0.81      0.84        45\n",
      "weighted avg       0.90      0.89      0.88        45\n",
      "\n",
      "[[32  0]\n",
      " [ 5  8]]\n",
      "              precision    recall  f1-score   support\n",
      "\n",
      "           0       0.94      0.97      0.96        33\n",
      "           1       0.91      0.83      0.87        12\n",
      "\n",
      "    accuracy                           0.93        45\n",
      "   macro avg       0.93      0.90      0.91        45\n",
      "weighted avg       0.93      0.93      0.93        45\n",
      "\n",
      "[[32  1]\n",
      " [ 2 10]]\n",
      "[95.65217391304348, 84.78260869565217, 95.65217391304348, 93.47826086956522, 91.11111111111111, 93.33333333333333, 88.88888888888889, 91.11111111111111, 88.88888888888889, 93.33333333333333]\n",
      "91.62318840579711\n"
     ]
    }
   ],
   "source": [
    "accuracy_model2 = []\n",
    "\n",
    "array = [[0,0],[0,0]]\n",
    "best_accuracy=0\n",
    "# Iterate over each train-test split\n",
    "for train_index, test_index in kf2.split(X):\n",
    "    # Split train-test\n",
    "    X_train, X_test = X.iloc[train_index], X.iloc[test_index]\n",
    "    y_train, y_test = y.iloc[train_index], y.iloc[test_index]\n",
    "    # Train the model\n",
    "    y_pred = classifier.predict(X_test)\n",
    " \n",
    "    \n",
    "    #fit the ensemble model and build the trees\n",
    "    #confusion_ma.append(np.array(confusion_matrix(y_test, y_pred)))\n",
    "    # Append to accuracy_model the accuracy of the model\n",
    "    accuracy_model2.append(accuracy_score(y_test, y_pred, normalize=True)*100)\n",
    "    if accuracy_score(y_test, y_pred, normalize=True)*100 > best_accuracy:\n",
    "        G=y_pred\n",
    "        h=y_test\n",
    "        i=X_test\n",
    "        \n",
    "\n",
    "    #print(matthews_corrcoef(y_pred, y_test))\n",
    "    print(classification_report(y_test, y_pred))\n",
    "    #print(confusion_ma)\n",
    "    c= confusion_matrix(y_test, y_pred)\n",
    "    print(c)\n",
    "    array = array + c\n",
    "# Print the accuracy    \n",
    "print(accuracy_model2)\n",
    "print(np.mean(accuracy_model2))\n",
    "\n"
   ]
  },
  {
   "cell_type": "code",
   "execution_count": 330,
   "metadata": {},
   "outputs": [
    {
     "name": "stdout",
     "output_type": "stream",
     "text": [
      "Average precision-recall score: 0.80\n"
     ]
    }
   ],
   "source": [
    "from sklearn.metrics import average_precision_score\n",
    "average_precision = average_precision_score(h, G)\n",
    "\n",
    "print('Average precision-recall score: {0:0.2f}'.format(\n",
    "      average_precision))\n"
   ]
  },
  {
   "cell_type": "code",
   "execution_count": 331,
   "metadata": {},
   "outputs": [
    {
     "data": {
      "text/plain": [
       "Text(0.5, 1.0, '2-class Precision-Recall curve: ')"
      ]
     },
     "execution_count": 331,
     "metadata": {},
     "output_type": "execute_result"
    },
    {
     "data": {
      "image/png": "[encoded data removed]",
      "text/plain": [
       "<Figure size 432x288 with 1 Axes>"
      ]
     },
     "metadata": {
      "needs_background": "light"
     },
     "output_type": "display_data"
    }
   ],
   "source": [
    "from sklearn.metrics import precision_recall_curve\n",
    "from sklearn.metrics import plot_precision_recall_curve\n",
    "import matplotlib.pyplot as plt\n",
    "\n",
    "disp = plot_precision_recall_curve(model, i, h)\n",
    "disp.ax_.set_title('2-class Precision-Recall curve: ')\n"
   ]
  },
  {
   "cell_type": "code",
   "execution_count": 22,
   "metadata": {},
   "outputs": [],
   "source": [
    "import pickle\n",
    "pickle.dump(model,open(\"model1.pkl\",\"wb\"))"
   ]
  },
  {
   "cell_type": "code",
   "execution_count": 26,
   "metadata": {},
   "outputs": [],
   "source": [
    "testdata = pd.read_csv('ram.csv').values"
   ]
  },
  {
   "cell_type": "code",
   "execution_count": 30,
   "metadata": {},
   "outputs": [],
   "source": [
    "unscaled_testdata = np.delete(testdata, [0], axis=1)\n"
   ]
  },
  {
   "cell_type": "code",
   "execution_count": 31,
   "metadata": {},
   "outputs": [
    {
     "data": {
      "text/plain": [
       "array([[  186, 34223,  8883,    92],\n",
       "       [  193, 34223,  8883,   108],\n",
       "       [  390, 34223,  8883,     8],\n",
       "       [   99, 34223,  8883,     2],\n",
       "       [  185, 34223,  8883,     4],\n",
       "       [  212, 34223,  8883,     3],\n",
       "       [   97, 36655,  8883,  1306],\n",
       "       [  165, 36655,  8883,    27],\n",
       "       [  172, 36655,  8883,   182],\n",
       "       [  283, 36655,  8883,    13],\n",
       "       [  183, 34223,  8883,     6],\n",
       "       [  193, 34223,  8883,    17],\n",
       "       [  206, 34223,  8883,    13],\n",
       "       [  393, 34223,  8883,     1],\n",
       "       [  976, 34223,  8883,    20],\n",
       "       [  283, 36655,  8883,    15],\n",
       "       [  393, 36655,  8883,     1],\n",
       "       [  166, 34223,  8883,     9],\n",
       "       [  185, 34223,  8883,     1],\n",
       "       [  239, 34223,  8883,     3],\n",
       "       [  976, 34223,  8883,    20],\n",
       "       [  978, 34223,  8883,   320],\n",
       "       [  240, 44117,  8883,    49],\n",
       "       [  259, 44117,  8883,     2],\n",
       "       [  177, 44117,  8883,    15],\n",
       "       [  185, 44117,  8883,     7],\n",
       "       [  967, 44117,  8883,     6],\n",
       "       [  162, 44117,  8883,    67],\n",
       "       [  188, 44117,  8883,    10],\n",
       "       [  205, 44117,  8883,    16],\n",
       "       [  206, 34223,  8883,     6],\n",
       "       [  978, 34223,  8883,   320],\n",
       "       [  204, 34223,  8883,    34],\n",
       "       [  206, 34223,  8883,     5],\n",
       "       [   97, 57811,  8883,  1440],\n",
       "       [  172, 57811,  8883,     8],\n",
       "       [  186, 57811,  8883,    10],\n",
       "       [  282, 57811,  8883,     4],\n",
       "       [  971, 36655,  8883,     7],\n",
       "       [  174, 57811,  8883,     5],\n",
       "       [  183, 57811,  8883,     5],\n",
       "       [  204, 57811,  8883,    23],\n",
       "       [   97, 36655,  8883,  1440],\n",
       "       [  192, 36655,  8883,     2],\n",
       "       [  204, 36655,  8883,    26]])"
      ]
     },
     "execution_count": 31,
     "metadata": {},
     "output_type": "execute_result"
    }
   ],
   "source": [
    "unscaled_testdata"
   ]
  },
  {
   "cell_type": "code",
   "execution_count": 33,
   "metadata": {},
   "outputs": [],
   "source": [
    "with open('model1.pkl', 'rb') as f:\n",
    "    loaded_model = pickle.load(f)"
   ]
  },
  {
   "cell_type": "code",
   "execution_count": 36,
   "metadata": {},
   "outputs": [],
   "source": [
    "prediction = loaded_model.predict(unscaled_testdata)\n"
   ]
  },
  {
   "cell_type": "code",
   "execution_count": 37,
   "metadata": {},
   "outputs": [
    {
     "data": {
      "text/plain": [
       "array([0, 0, 0, 1, 0, 0, 0, 0, 0, 0, 0, 1, 0, 0, 0, 0, 0, 0, 1, 0, 0, 0,\n",
       "       0, 0, 0, 1, 0, 0, 0, 0, 0, 0, 1, 1, 0, 1, 1, 1, 1, 1, 1, 1, 0, 1,\n",
       "       0])"
      ]
     },
     "execution_count": 37,
     "metadata": {},
     "output_type": "execute_result"
    }
   ],
   "source": [
    "prediction"
   ]
  },
  {
   "cell_type": "code",
   "execution_count": 31,
   "metadata": {},
   "outputs": [
    {
     "name": "stdout",
     "output_type": "stream",
     "text": [
      "Confusion matrix, without normalization\n"
     ]
    },
    {
     "data": {
      "image/png": "[encoded data removed]",
      "text/plain": [
       "<Figure size 432x288 with 2 Axes>"
      ]
     },
     "metadata": {
      "needs_background": "light"
     },
     "output_type": "display_data"
    }
   ],
   "source": [
    "import itertools\n",
    "def plot_confusion_matrix(array, label,\n",
    "                          normalize=False,\n",
    "                          title='Confusion matrix',\n",
    "                          cmap=plt.cm.Blues):\n",
    "    \"\"\"\n",
    "    This function prints and plots the confusion matrix.\n",
    "    Normalization can be applied by setting `normalize=True`.\n",
    "    \"\"\"\n",
    "    if normalize:\n",
    "        cm = array.astype('float') / array.sum(axis=1)[:, np.newaxis]\n",
    "        print(\"Normalized confusion matrix\")\n",
    "    else:\n",
    "        print('Confusion matrix, without normalization')\n",
    "    plt.imshow(array, interpolation='nearest', cmap=cmap)\n",
    "    plt.title(title)\n",
    "    plt.colorbar()\n",
    "    tick_marks = np.arange(len(label))\n",
    "    plt.xticks(tick_marks, label, rotation=45)\n",
    "    plt.yticks(tick_marks, label)\n",
    "\n",
    "    fmt = '.2f' if normalize else 'd'\n",
    "    thresh = array.max() / 2.\n",
    "    for i, j in itertools.product(range(array.shape[0]), range(array.shape[1])):\n",
    "        plt.text(j, i, format(array[i, j], fmt),\n",
    "                 horizontalalignment=\"center\",\n",
    "                 color=\"white\" if array[i, j] > thresh else \"black\")\n",
    "\n",
    "    plt.tight_layout()\n",
    "    plt.ylabel('True label')\n",
    "    plt.xlabel('Predicted label')\n",
    "\n",
    "#cm = confusion_matrix(y_true, y_pred)\n",
    "np.set_printoptions(precision=2)\n",
    "\n",
    "plt.figure()\n",
    "plot_confusion_matrix(array,label=[0, 1],title='Confusion matrix')\n"
   ]
  },
  {
   "cell_type": "code",
   "execution_count": 24,
   "metadata": {},
   "outputs": [
    {
     "data": {
      "text/html": [
       "<div>\n",
       "<style scoped>\n",
       "    .dataframe tbody tr th:only-of-type {\n",
       "        vertical-align: middle;\n",
       "    }\n",
       "\n",
       "    .dataframe tbody tr th {\n",
       "        vertical-align: top;\n",
       "    }\n",
       "\n",
       "    .dataframe thead th {\n",
       "        text-align: right;\n",
       "    }\n",
       "</style>\n",
       "<table border=\"1\" class=\"dataframe\">\n",
       "  <thead>\n",
       "    <tr style=\"text-align: right;\">\n",
       "      <th></th>\n",
       "      <th>Actual</th>\n",
       "      <th>Predicted</th>\n",
       "    </tr>\n",
       "  </thead>\n",
       "  <tbody>\n",
       "    <tr>\n",
       "      <th>2</th>\n",
       "      <td>0</td>\n",
       "      <td>0</td>\n",
       "    </tr>\n",
       "    <tr>\n",
       "      <th>5</th>\n",
       "      <td>0</td>\n",
       "      <td>0</td>\n",
       "    </tr>\n",
       "    <tr>\n",
       "      <th>9</th>\n",
       "      <td>0</td>\n",
       "      <td>0</td>\n",
       "    </tr>\n",
       "    <tr>\n",
       "      <th>16</th>\n",
       "      <td>0</td>\n",
       "      <td>0</td>\n",
       "    </tr>\n",
       "    <tr>\n",
       "      <th>24</th>\n",
       "      <td>0</td>\n",
       "      <td>0</td>\n",
       "    </tr>\n",
       "    <tr>\n",
       "      <th>45</th>\n",
       "      <td>0</td>\n",
       "      <td>0</td>\n",
       "    </tr>\n",
       "    <tr>\n",
       "      <th>55</th>\n",
       "      <td>0</td>\n",
       "      <td>0</td>\n",
       "    </tr>\n",
       "    <tr>\n",
       "      <th>72</th>\n",
       "      <td>0</td>\n",
       "      <td>0</td>\n",
       "    </tr>\n",
       "    <tr>\n",
       "      <th>90</th>\n",
       "      <td>0</td>\n",
       "      <td>0</td>\n",
       "    </tr>\n",
       "    <tr>\n",
       "      <th>106</th>\n",
       "      <td>1</td>\n",
       "      <td>1</td>\n",
       "    </tr>\n",
       "    <tr>\n",
       "      <th>114</th>\n",
       "      <td>0</td>\n",
       "      <td>0</td>\n",
       "    </tr>\n",
       "    <tr>\n",
       "      <th>127</th>\n",
       "      <td>0</td>\n",
       "      <td>0</td>\n",
       "    </tr>\n",
       "    <tr>\n",
       "      <th>129</th>\n",
       "      <td>0</td>\n",
       "      <td>0</td>\n",
       "    </tr>\n",
       "    <tr>\n",
       "      <th>133</th>\n",
       "      <td>0</td>\n",
       "      <td>0</td>\n",
       "    </tr>\n",
       "    <tr>\n",
       "      <th>137</th>\n",
       "      <td>0</td>\n",
       "      <td>0</td>\n",
       "    </tr>\n",
       "    <tr>\n",
       "      <th>141</th>\n",
       "      <td>0</td>\n",
       "      <td>0</td>\n",
       "    </tr>\n",
       "    <tr>\n",
       "      <th>165</th>\n",
       "      <td>0</td>\n",
       "      <td>1</td>\n",
       "    </tr>\n",
       "    <tr>\n",
       "      <th>168</th>\n",
       "      <td>0</td>\n",
       "      <td>0</td>\n",
       "    </tr>\n",
       "    <tr>\n",
       "      <th>171</th>\n",
       "      <td>0</td>\n",
       "      <td>0</td>\n",
       "    </tr>\n",
       "    <tr>\n",
       "      <th>172</th>\n",
       "      <td>0</td>\n",
       "      <td>1</td>\n",
       "    </tr>\n",
       "    <tr>\n",
       "      <th>194</th>\n",
       "      <td>0</td>\n",
       "      <td>0</td>\n",
       "    </tr>\n",
       "    <tr>\n",
       "      <th>206</th>\n",
       "      <td>0</td>\n",
       "      <td>0</td>\n",
       "    </tr>\n",
       "    <tr>\n",
       "      <th>214</th>\n",
       "      <td>1</td>\n",
       "      <td>1</td>\n",
       "    </tr>\n",
       "    <tr>\n",
       "      <th>216</th>\n",
       "      <td>1</td>\n",
       "      <td>0</td>\n",
       "    </tr>\n",
       "    <tr>\n",
       "      <th>233</th>\n",
       "      <td>0</td>\n",
       "      <td>0</td>\n",
       "    </tr>\n",
       "    <tr>\n",
       "      <th>251</th>\n",
       "      <td>1</td>\n",
       "      <td>1</td>\n",
       "    </tr>\n",
       "    <tr>\n",
       "      <th>254</th>\n",
       "      <td>1</td>\n",
       "      <td>1</td>\n",
       "    </tr>\n",
       "    <tr>\n",
       "      <th>280</th>\n",
       "      <td>1</td>\n",
       "      <td>1</td>\n",
       "    </tr>\n",
       "    <tr>\n",
       "      <th>288</th>\n",
       "      <td>0</td>\n",
       "      <td>1</td>\n",
       "    </tr>\n",
       "    <tr>\n",
       "      <th>295</th>\n",
       "      <td>0</td>\n",
       "      <td>0</td>\n",
       "    </tr>\n",
       "    <tr>\n",
       "      <th>305</th>\n",
       "      <td>0</td>\n",
       "      <td>0</td>\n",
       "    </tr>\n",
       "    <tr>\n",
       "      <th>314</th>\n",
       "      <td>1</td>\n",
       "      <td>1</td>\n",
       "    </tr>\n",
       "    <tr>\n",
       "      <th>347</th>\n",
       "      <td>1</td>\n",
       "      <td>0</td>\n",
       "    </tr>\n",
       "    <tr>\n",
       "      <th>352</th>\n",
       "      <td>1</td>\n",
       "      <td>1</td>\n",
       "    </tr>\n",
       "    <tr>\n",
       "      <th>356</th>\n",
       "      <td>1</td>\n",
       "      <td>1</td>\n",
       "    </tr>\n",
       "    <tr>\n",
       "      <th>357</th>\n",
       "      <td>1</td>\n",
       "      <td>1</td>\n",
       "    </tr>\n",
       "    <tr>\n",
       "      <th>361</th>\n",
       "      <td>1</td>\n",
       "      <td>1</td>\n",
       "    </tr>\n",
       "    <tr>\n",
       "      <th>370</th>\n",
       "      <td>1</td>\n",
       "      <td>1</td>\n",
       "    </tr>\n",
       "    <tr>\n",
       "      <th>376</th>\n",
       "      <td>1</td>\n",
       "      <td>0</td>\n",
       "    </tr>\n",
       "    <tr>\n",
       "      <th>396</th>\n",
       "      <td>1</td>\n",
       "      <td>1</td>\n",
       "    </tr>\n",
       "    <tr>\n",
       "      <th>399</th>\n",
       "      <td>1</td>\n",
       "      <td>1</td>\n",
       "    </tr>\n",
       "    <tr>\n",
       "      <th>413</th>\n",
       "      <td>1</td>\n",
       "      <td>0</td>\n",
       "    </tr>\n",
       "    <tr>\n",
       "      <th>421</th>\n",
       "      <td>1</td>\n",
       "      <td>1</td>\n",
       "    </tr>\n",
       "  </tbody>\n",
       "</table>\n",
       "</div>"
      ],
      "text/plain": [
       "     Actual  Predicted\n",
       "2         0          0\n",
       "5         0          0\n",
       "9         0          0\n",
       "16        0          0\n",
       "24        0          0\n",
       "45        0          0\n",
       "55        0          0\n",
       "72        0          0\n",
       "90        0          0\n",
       "106       1          1\n",
       "114       0          0\n",
       "127       0          0\n",
       "129       0          0\n",
       "133       0          0\n",
       "137       0          0\n",
       "141       0          0\n",
       "165       0          1\n",
       "168       0          0\n",
       "171       0          0\n",
       "172       0          1\n",
       "194       0          0\n",
       "206       0          0\n",
       "214       1          1\n",
       "216       1          0\n",
       "233       0          0\n",
       "251       1          1\n",
       "254       1          1\n",
       "280       1          1\n",
       "288       0          1\n",
       "295       0          0\n",
       "305       0          0\n",
       "314       1          1\n",
       "347       1          0\n",
       "352       1          1\n",
       "356       1          1\n",
       "357       1          1\n",
       "361       1          1\n",
       "370       1          1\n",
       "376       1          0\n",
       "396       1          1\n",
       "399       1          1\n",
       "413       1          0\n",
       "421       1          1"
      ]
     },
     "execution_count": 24,
     "metadata": {},
     "output_type": "execute_result"
    }
   ],
   "source": [
    "df=pd.DataFrame({'Actual':y_test, 'Predicted':y_pred})\n",
    "df\n",
    "# Predict for multiple observations\n"
   ]
  },
  {
   "cell_type": "code",
   "execution_count": 25,
   "metadata": {},
   "outputs": [
    {
     "data": {
      "text/plain": [
       "2      0\n",
       "5      0\n",
       "9      0\n",
       "16     0\n",
       "24     0\n",
       "45     0\n",
       "55     0\n",
       "72     0\n",
       "90     0\n",
       "106    1\n",
       "114    0\n",
       "127    0\n",
       "129    0\n",
       "133    0\n",
       "137    0\n",
       "141    0\n",
       "165    0\n",
       "168    0\n",
       "171    0\n",
       "172    0\n",
       "194    0\n",
       "206    0\n",
       "214    1\n",
       "216    1\n",
       "233    0\n",
       "251    1\n",
       "254    1\n",
       "280    1\n",
       "288    0\n",
       "295    0\n",
       "305    0\n",
       "314    1\n",
       "347    1\n",
       "352    1\n",
       "356    1\n",
       "357    1\n",
       "361    1\n",
       "370    1\n",
       "376    1\n",
       "396    1\n",
       "399    1\n",
       "413    1\n",
       "421    1\n",
       "Name: label, dtype: int64"
      ]
     },
     "execution_count": 25,
     "metadata": {},
     "output_type": "execute_result"
    }
   ],
   "source": [
    "y_test"
   ]
  },
  {
   "cell_type": "code",
   "execution_count": 26,
   "metadata": {},
   "outputs": [
    {
     "ename": "NameError",
     "evalue": "name 'n' is not defined",
     "output_type": "error",
     "traceback": [
      "\u001b[0;31m---------------------------------------------------------------------------\u001b[0m",
      "\u001b[0;31mNameError\u001b[0m                                 Traceback (most recent call last)",
      "\u001b[0;32m<ipython-input-26-00de3d26c493>\u001b[0m in \u001b[0;36m<module>\u001b[0;34m\u001b[0m\n\u001b[0;32m----> 1\u001b[0;31m \u001b[0md1\u001b[0m \u001b[0;34m=\u001b[0m \u001b[0;34m{\u001b[0m\u001b[0;34m'dates'\u001b[0m\u001b[0;34m:\u001b[0m \u001b[0mn\u001b[0m\u001b[0;34m[\u001b[0m\u001b[0;34m'dates'\u001b[0m\u001b[0;34m]\u001b[0m\u001b[0;34m,\u001b[0m\u001b[0;34m'Length'\u001b[0m\u001b[0;34m:\u001b[0m \u001b[0mn\u001b[0m\u001b[0;34m[\u001b[0m\u001b[0;34m'Length'\u001b[0m\u001b[0;34m]\u001b[0m\u001b[0;34m,\u001b[0m\u001b[0;34m'Count'\u001b[0m\u001b[0;34m:\u001b[0m \u001b[0mn\u001b[0m\u001b[0;34m[\u001b[0m\u001b[0;34m'packtLDaily_Count'\u001b[0m\u001b[0;34m]\u001b[0m\u001b[0;34m,\u001b[0m \u001b[0;34m'label'\u001b[0m\u001b[0;34m:\u001b[0m\u001b[0mpred\u001b[0m\u001b[0;34m}\u001b[0m\u001b[0;34m\u001b[0m\u001b[0;34m\u001b[0m\u001b[0m\n\u001b[0m\u001b[1;32m      2\u001b[0m \u001b[0mresult1\u001b[0m \u001b[0;34m=\u001b[0m \u001b[0mpd\u001b[0m\u001b[0;34m.\u001b[0m\u001b[0mDataFrame\u001b[0m\u001b[0;34m(\u001b[0m\u001b[0md1\u001b[0m\u001b[0;34m)\u001b[0m\u001b[0;34m\u001b[0m\u001b[0;34m\u001b[0m\u001b[0m\n",
      "\u001b[0;31mNameError\u001b[0m: name 'n' is not defined"
     ]
    }
   ],
   "source": [
    "d1 = {'dates': n['dates'],'Length': n['Length'],'Count': n['packtLDaily_Count'], 'label':pred}\n",
    "result1 = pd.DataFrame(d1)"
   ]
  },
  {
   "cell_type": "code",
   "execution_count": 27,
   "metadata": {},
   "outputs": [
    {
     "ename": "NameError",
     "evalue": "name 'y_pred1' is not defined",
     "output_type": "error",
     "traceback": [
      "\u001b[0;31m---------------------------------------------------------------------------\u001b[0m",
      "\u001b[0;31mNameError\u001b[0m                                 Traceback (most recent call last)",
      "\u001b[0;32m<ipython-input-27-82935ea6fd17>\u001b[0m in \u001b[0;36m<module>\u001b[0;34m\u001b[0m\n\u001b[0;32m----> 1\u001b[0;31m \u001b[0maccuracy_decision_tree\u001b[0m \u001b[0;34m=\u001b[0m \u001b[0maccuracy_score\u001b[0m\u001b[0;34m(\u001b[0m\u001b[0my_pred1\u001b[0m\u001b[0;34m,\u001b[0m \u001b[0my_test\u001b[0m\u001b[0;34m)\u001b[0m\u001b[0;34m\u001b[0m\u001b[0;34m\u001b[0m\u001b[0m\n\u001b[0m\u001b[1;32m      2\u001b[0m \u001b[0mprint\u001b[0m\u001b[0;34m(\u001b[0m\u001b[0maccuracy_decision_tree\u001b[0m\u001b[0;34m)\u001b[0m\u001b[0;34m\u001b[0m\u001b[0;34m\u001b[0m\u001b[0m\n",
      "\u001b[0;31mNameError\u001b[0m: name 'y_pred1' is not defined"
     ]
    }
   ],
   "source": [
    "accuracy_decision_tree = accuracy_score(y_pred1, y_test)\n",
    "print(accuracy_decision_tree)"
   ]
  },
  {
   "cell_type": "code",
   "execution_count": null,
   "metadata": {},
   "outputs": [],
   "source": [
    "'''\n",
    "import socket, struct\n",
    "\n",
    "def ip2int(ip):\n",
    "    \"\"\"\n",
    "    Convert an IP string to int\n",
    "    \"\"\"\n",
    "    packedIP = socket.inet_aton(ip)\n",
    "    return struct.unpack(\"!L\", packedIP)[0]\n",
    "\n",
    "'''\n"
   ]
  },
  {
   "cell_type": "code",
   "execution_count": null,
   "metadata": {},
   "outputs": [],
   "source": [
    "#newdf['ip_source'] = newdf.Source.apply(ip2int)\n",
    "#newdf['ipdestination'] = newdf.Destination.apply(ip2int)"
   ]
  },
  {
   "cell_type": "code",
   "execution_count": null,
   "metadata": {},
   "outputs": [],
   "source": [
    "punjabi love moviespunjabi love moviespunjabi love moviespunjabi love moviespunjabi love moviesfrom sklearn.ensemble import IsolationForest\n",
    "from sklearn.metrics import roc_auc_score\n",
    "\n",
    "alg=IsolationForest()\n",
    "model3 = alg.fit(X_train, y_train)\n",
    "\n",
    "\n",
    "\n",
    "accuracy_model3 = []\n",
    " \n",
    "# Iterate over each train-test split\n",
    "for train_index, test_index in kf2.split(X):\n",
    "    # Split train-test\n",
    "    X_train, X_test = X.iloc[train_index], X.iloc[test_index]\n",
    "    y_train, y_test = y.iloc[train_index], y.iloc[test_index]\n",
    "    preds = model3.predict(X_test)\n",
    "    # Train the model\n",
    "    #classifier.fit(X_train, y_train)\n",
    "   \n",
    "    #fit the ensemble model and build the trees\n",
    "\n",
    "    # Append to accuracy_model the accuracy of the model\n",
    "    accuracy_model3.append(accuracy_score(y_test, preds, normalize=True)*100)\n",
    "    print(confusion_matrix(y_test, preds))\n",
    "    #print(matthews_corrcoef(y_pred, y_test))\n",
    "    print(classification_report(y_test, preds))\n",
    " \n",
    "# Print the accuracy    \n",
    "print(accuracy_model3)\n",
    "\n"
   ]
  },
  {
   "cell_type": "code",
   "execution_count": null,
   "metadata": {},
   "outputs": [],
   "source": [
    "print(np.mean(accuracy_model3))\n"
   ]
  },
  {
   "cell_type": "code",
   "execution_count": null,
   "metadata": {},
   "outputs": [],
   "source": []
  },
  {
   "cell_type": "code",
   "execution_count": null,
   "metadata": {},
   "outputs": [],
   "source": []
  }
 ],
 "metadata": {
  "kernelspec": {
   "display_name": "Python 3",
   "language": "python",
   "name": "python3"
  },
  "language_info": {
   "codemirror_mode": {
    "name": "ipython",
    "version": 3
   },
   "file_extension": ".py",
   "mimetype": "text/x-python",
   "name": "python",
   "nbconvert_exporter": "python",
   "pygments_lexer": "ipython3",
   "version": "3.7.3"
  }
 },
 "nbformat": 4,
 "nbformat_minor": 2
}
